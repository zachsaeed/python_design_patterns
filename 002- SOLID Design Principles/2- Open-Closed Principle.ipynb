{
 "cells": [
  {
   "cell_type": "markdown",
   "metadata": {},
   "source": [
    "# Open-Closed Principle\n",
    "\n",
    "Software entities(Classes, modules, functions) should be **'open'** for extension, **'closed'** for modification ie new functionality should be added by extension not modification.\n",
    "\n",
    "![Logo](./images/dogusb.jpeg)\n",
    "\n",
    "\n",
    "Let’s imagine you have a store, and you give a discount of 20% to your favorite customers using this class: When you decide to offer double the 20% discount to VIP customers. You may modify the class like this:"
   ]
  },
  {
   "cell_type": "code",
   "execution_count": 2,
   "metadata": {},
   "outputs": [],
   "source": [
    "class Discount:\n",
    "    \n",
    "  def __init__(self, customer, price):\n",
    "      self.customer = customer\n",
    "      self.price = price\n",
    "  \n",
    "  def give_discount(self):\n",
    "      if self.customer == 'fav':\n",
    "          return self.price * 0.2\n",
    "      if self.customer == 'vip':\n",
    "          return self.price * 0.4"
   ]
  },
  {
   "cell_type": "markdown",
   "metadata": {},
   "source": [
    "No, this fails the OCP principle. OCP forbids it. If we want to give a new percent discount maybe, to a different type of customer, you will see that a new logic will be added. To make it follow the OCP principle, we will add a new class that will extend the Discount. In this new class, we would implement its new behavior:"
   ]
  },
  {
   "cell_type": "code",
   "execution_count": 1,
   "metadata": {},
   "outputs": [],
   "source": [
    "class Discount:\n",
    "    \n",
    "    def __init__(self, customer, price):\n",
    "      self.customer = customer\n",
    "      self.price = price\n",
    "    \n",
    "    def get_discount(self):\n",
    "      return self.price * 0.2\n",
    "\n",
    "class VIPDiscount(Discount):\n",
    "    \n",
    "    def get_discount(self):\n",
    "      return super().get_discount() * 2"
   ]
  },
  {
   "cell_type": "markdown",
   "metadata": {},
   "source": [
    "If you decide 80% discount to super VIP customers, it should be like this:\n",
    "## Extension without modification."
   ]
  },
  {
   "cell_type": "code",
   "execution_count": 6,
   "metadata": {},
   "outputs": [],
   "source": [
    "class SuperVIPDiscount(VIPDiscount):\n",
    "    \n",
    "    def get_discount(self):\n",
    "        return super().get_discount()*2"
   ]
  },
  {
   "cell_type": "markdown",
   "metadata": {},
   "source": []
  }
 ],
 "metadata": {
  "kernelspec": {
   "display_name": "Python 3",
   "language": "python",
   "name": "python3"
  },
  "language_info": {
   "codemirror_mode": {
    "name": "ipython",
    "version": 3
   },
   "file_extension": ".py",
   "mimetype": "text/x-python",
   "name": "python",
   "nbconvert_exporter": "python",
   "pygments_lexer": "ipython3",
   "version": "3.9.0"
  }
 },
 "nbformat": 4,
 "nbformat_minor": 4
}
