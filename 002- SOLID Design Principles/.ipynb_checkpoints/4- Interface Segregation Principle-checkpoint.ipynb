{
 "cells": [
  {
   "cell_type": "markdown",
   "metadata": {},
   "source": [
    "# Interface Segregation Principle\n",
    "\n",
    "This principle deals with the disadvantages of implementing big interfaces ie you don't want to stick to many elements/methods into an interface. Make fine grained interfaces that are client specific as clients should not be forced to depend upon interfaces that they do not use. \n",
    "\n",
    "![](./images/candies.jpeg)\n",
    "\n",
    "For example, the following code does not follow interface segregation:"
   ]
  },
  {
   "cell_type": "code",
   "execution_count": 3,
   "metadata": {},
   "outputs": [
    {
     "ename": "NotImplementedError",
     "evalue": "Printer cannot scan!",
     "output_type": "error",
     "traceback": [
      "\u001b[0;31m---------------------------------------------------------------------------\u001b[0m",
      "\u001b[0;31mNotImplementedError\u001b[0m                       Traceback (most recent call last)",
      "\u001b[0;32m<ipython-input-3-8922de1d4484>\u001b[0m in \u001b[0;36m<module>\u001b[0;34m\u001b[0m\n\u001b[1;32m     37\u001b[0m \u001b[0mprinter\u001b[0m \u001b[0;34m=\u001b[0m \u001b[0mOldFashionedPrinter\u001b[0m\u001b[0;34m(\u001b[0m\u001b[0;34m)\u001b[0m\u001b[0;34m\u001b[0m\u001b[0;34m\u001b[0m\u001b[0m\n\u001b[1;32m     38\u001b[0m \u001b[0mprinter\u001b[0m\u001b[0;34m.\u001b[0m\u001b[0mfax\u001b[0m\u001b[0;34m(\u001b[0m\u001b[0;36m123\u001b[0m\u001b[0;34m)\u001b[0m  \u001b[0;31m# nothing happens\u001b[0m\u001b[0;34m\u001b[0m\u001b[0;34m\u001b[0m\u001b[0m\n\u001b[0;32m---> 39\u001b[0;31m \u001b[0mprinter\u001b[0m\u001b[0;34m.\u001b[0m\u001b[0mscan\u001b[0m\u001b[0;34m(\u001b[0m\u001b[0;36m123\u001b[0m\u001b[0;34m)\u001b[0m  \u001b[0;31m# oops!\u001b[0m\u001b[0;34m\u001b[0m\u001b[0;34m\u001b[0m\u001b[0m\n\u001b[0m",
      "\u001b[0;32m<ipython-input-3-8922de1d4484>\u001b[0m in \u001b[0;36mscan\u001b[0;34m(self, document)\u001b[0m\n\u001b[1;32m     33\u001b[0m     \u001b[0;32mdef\u001b[0m \u001b[0mscan\u001b[0m\u001b[0;34m(\u001b[0m\u001b[0mself\u001b[0m\u001b[0;34m,\u001b[0m \u001b[0mdocument\u001b[0m\u001b[0;34m)\u001b[0m\u001b[0;34m:\u001b[0m \u001b[0;31m# Even though we raise an exception the method is still there for a client to see and use\u001b[0m\u001b[0;34m\u001b[0m\u001b[0;34m\u001b[0m\u001b[0m\n\u001b[1;32m     34\u001b[0m         \u001b[0;34m\"\"\"Not supported!\"\"\"\u001b[0m\u001b[0;34m\u001b[0m\u001b[0;34m\u001b[0m\u001b[0m\n\u001b[0;32m---> 35\u001b[0;31m         \u001b[0;32mraise\u001b[0m \u001b[0mNotImplementedError\u001b[0m\u001b[0;34m(\u001b[0m\u001b[0;34m'Printer cannot scan!'\u001b[0m\u001b[0;34m)\u001b[0m\u001b[0;34m\u001b[0m\u001b[0;34m\u001b[0m\u001b[0m\n\u001b[0m\u001b[1;32m     36\u001b[0m \u001b[0;34m\u001b[0m\u001b[0m\n\u001b[1;32m     37\u001b[0m \u001b[0mprinter\u001b[0m \u001b[0;34m=\u001b[0m \u001b[0mOldFashionedPrinter\u001b[0m\u001b[0;34m(\u001b[0m\u001b[0;34m)\u001b[0m\u001b[0;34m\u001b[0m\u001b[0;34m\u001b[0m\u001b[0m\n",
      "\u001b[0;31mNotImplementedError\u001b[0m: Printer cannot scan!"
     ]
    }
   ],
   "source": [
    "# Interface\n",
    "class Machine:\n",
    "    def print(self, document):\n",
    "        raise NotImplementedError()\n",
    "\n",
    "    def fax(self, document):\n",
    "        raise NotImplementedError()\n",
    "\n",
    "    def scan(self, document):\n",
    "        raise NotImplementedError()\n",
    "\n",
    "\n",
    "# ok if you need a multifunction device\n",
    "class MultiFunctionPrinter(Machine):\n",
    "    def print(self, document):\n",
    "        pass\n",
    "\n",
    "    def fax(self, document):\n",
    "        pass\n",
    "\n",
    "    def scan(self, document):\n",
    "        pass\n",
    "\n",
    "# Not ok for an old printer with no fax or scan functionality\n",
    "class OldFashionedPrinter(Machine):\n",
    "    def print(self, document):\n",
    "        # ok - print stuff\n",
    "        pass\n",
    "\n",
    "    def fax(self, document): # Even though we do nothing the method is still there for a client to see and use\n",
    "        pass  # do-nothing\n",
    "\n",
    "    def scan(self, document): # Even though we raise an exception the method is still there for a client to see and use\n",
    "        \"\"\"Not supported!\"\"\"\n",
    "        raise NotImplementedError('Printer cannot scan!')\n",
    "        \n",
    "printer = OldFashionedPrinter()\n",
    "printer.fax(123)  # nothing happens\n",
    "printer.scan(123)  # oops!        "
   ]
  },
  {
   "cell_type": "markdown",
   "metadata": {},
   "source": [
    "The correct way for the above implementation"
   ]
  },
  {
   "cell_type": "code",
   "execution_count": 4,
   "metadata": {},
   "outputs": [],
   "source": [
    "from abc import abstractmethod\n",
    "\n",
    "class Printer:\n",
    "    @abstractmethod\n",
    "    def print(self, document): pass\n",
    "\n",
    "\n",
    "class Scanner:\n",
    "    @abstractmethod\n",
    "    def scan(self, document): pass\n",
    "\n",
    "# same for Fax, etc.\n",
    "\n",
    "# We can now combine the above with just the classes we need\n",
    "\n",
    "class MyPrinter(Printer):\n",
    "    def print(self, document):\n",
    "        print(document)\n",
    "\n",
    "\n",
    "class Photocopier(Printer, Scanner):\n",
    "    def print(self, document):\n",
    "        print(document)\n",
    "\n",
    "    def scan(self, document):\n",
    "        pass  # something meaningful\n",
    "\n",
    "    \n",
    "# We can derive further interfaces too  \n",
    "class MultiFunctionDevice(Printer, Scanner):  # , Fax, etc\n",
    "    @abstractmethod\n",
    "    def print(self, document):\n",
    "        pass\n",
    "\n",
    "    @abstractmethod\n",
    "    def scan(self, document):\n",
    "        pass\n",
    "\n",
    "\n",
    "class MultiFunctionMachine(MultiFunctionDevice):\n",
    "    # decorator pattern\n",
    "    def __init__(self, printer, scanner):\n",
    "        self.printer = printer\n",
    "        self.scanner = scanner\n",
    "\n",
    "    def print(self, document):\n",
    "        self.printer.print(document)\n",
    "\n",
    "    def scan(self, document):\n",
    "        self.scanner.scan(document)\n",
    "\n",
    "\n",
    "\n"
   ]
  },
  {
   "cell_type": "markdown",
   "metadata": {},
   "source": [
    "Another nice trick is that in our business logic, a single class can implement several interfaces if needed. So we can provide a single implementation for all the common methods between the interfaces. The segregated interfaces will also force us to think of our code more from the client’s point of view, which will in turn lead to loose coupling and easy testing. So, not only have we made our code better to our clients, we also made it easier for ourselves to understand, test and implement.\n",
    "\n",
    "Alos see [YAGNI: You ain't gonna need it](https://en.wikipedia.org/wiki/You_aren%27t_gonna_need_it)"
   ]
  },
  {
   "cell_type": "code",
   "execution_count": null,
   "metadata": {},
   "outputs": [],
   "source": []
  }
 ],
 "metadata": {
  "kernelspec": {
   "display_name": "Python 3",
   "language": "python",
   "name": "python3"
  },
  "language_info": {
   "codemirror_mode": {
    "name": "ipython",
    "version": 3
   },
   "file_extension": ".py",
   "mimetype": "text/x-python",
   "name": "python",
   "nbconvert_exporter": "python",
   "pygments_lexer": "ipython3",
   "version": "3.7.4"
  }
 },
 "nbformat": 4,
 "nbformat_minor": 4
}
