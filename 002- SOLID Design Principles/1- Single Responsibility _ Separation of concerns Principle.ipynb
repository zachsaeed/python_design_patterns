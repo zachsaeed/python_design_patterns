{
 "cells": [
  {
   "cell_type": "markdown",
   "metadata": {},
   "source": [
    "# Single Responsibility Principle (SRP) / Separation of Concerns (SOC)\n",
    "\n",
    "The Single Responsibility Principle requires that a class should have only one job. So if a class has more than one responsibility, it becomes coupled. A change to one responsibility results to modification of the other responsibility.\n",
    "\n",
    "![Logo](./images/mug.png)\n"
   ]
  },
  {
   "cell_type": "code",
   "execution_count": 3,
   "metadata": {},
   "outputs": [],
   "source": [
    "# Below is Given a class which has two responsibilities \n",
    "class  User:\n",
    "    def __init__(self, name: str):\n",
    "        self.name = name\n",
    "    \n",
    "    def get_name(self) -> str:\n",
    "        pass\n",
    "\n",
    "    def save(self, user: User):\n",
    "        pass"
   ]
  },
  {
   "cell_type": "markdown",
   "metadata": {},
   "source": [
    "We have a User class which is responsible for both the user properties and user database management. If the application changes in a way that it affect database management functions, the classes that make use of User properties will have to be touched and recompiled to compensate for the new changes. It’s like a domino effect, touch one card it affects all other cards in line.\n",
    "\n",
    "![Logo](./images/domino.png)\n",
    "\n",
    "So we simply split the class, we create another class that will handle the one responsibility of storing an user to a database:"
   ]
  },
  {
   "cell_type": "code",
   "execution_count": 1,
   "metadata": {},
   "outputs": [],
   "source": [
    "class User:\n",
    "    def __init__(self, name: str):\n",
    "            self.name = name\n",
    "    \n",
    "    def get_name(self):\n",
    "        pass\n",
    "\n",
    "\n",
    "class UserDB:\n",
    "    def get_user(self, id) -> User:\n",
    "        pass\n",
    "\n",
    "    def save(self, user: User):\n",
    "        pass"
   ]
  },
  {
   "cell_type": "markdown",
   "metadata": {},
   "source": [
    "A common solution to this dilemma is to apply the Façade pattern. User class will be the Facade for user database management and user properties management."
   ]
  }
 ],
 "metadata": {
  "kernelspec": {
   "display_name": "Python 3",
   "language": "python",
   "name": "python3"
  },
  "language_info": {
   "codemirror_mode": {
    "name": "ipython",
    "version": 3
   },
   "file_extension": ".py",
   "mimetype": "text/x-python",
   "name": "python",
   "nbconvert_exporter": "python",
   "pygments_lexer": "ipython3",
   "version": "3.9.0"
  }
 },
 "nbformat": 4,
 "nbformat_minor": 4
}
