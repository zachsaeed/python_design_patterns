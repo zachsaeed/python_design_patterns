{
 "cells": [
  {
   "cell_type": "markdown",
   "metadata": {},
   "source": [
    "# SOLID PRINCIPLES\n",
    "---------\n",
    "\n",
    "We can't say that a software always changes, we just know that 99% of the time does... \n",
    "S.O.L.I.D. is an acronym for the 5 most popular Object Oriented Principles promoted by [Robert Martin] (https://en.wikipedia.org/wiki/Robert_C._Martin)\n",
    "\n",
    "SOLID Principles are a set of common practices in Object Oriented Programming (not exclusively) to make software more decoupled, maintainable, extensible, testable, debuggable and easier to change.\n",
    "\n",
    "These Principles are:\n",
    "## Single responsibility principle / Separation of concerns:\n",
    "A class should have only a single responsibility (i.e. changes to only one part of the software’s specification should be able to affect the specification of the class).\n",
    "\n",
    "## Open/closed principle:\n",
    "“software entities … should be open for extension, but closed for modification.”\n",
    "\n",
    "## Liskov substitution principle\n",
    "“objects in a program should be replaceable with instances of their subtypes without altering the correctness of that program.” See also design by contract.\n",
    "\n",
    "## Interface segregation principle\n",
    "“many client-specific interfaces are better than one general-purpose interface.”\n",
    "\n",
    "## Dependency inversion principle\n",
    "one should “depend upon abstractions, not concretions.”\n",
    "\n",
    "TODO:\n",
    "Checout the the specification patter and the rules design pattern\n",
    "https://www.udemy.com/course/design-patterns-python/learn/lecture/13363048#overview\n",
    "https://stackoverflow.com/questions/16849656/design-pattern-to-implement-business-rules-with-hundreds-of-if-else-in-java\n",
    "https://en.wikipedia.org/wiki/Specification_pattern\n",
    "https://medium.com/@dorela/s-o-l-i-d-principles-explained-in-python-with-examples-3332520b90ff\n"
   ]
  },
  {
   "cell_type": "markdown",
   "metadata": {},
   "source": []
  }
 ],
 "metadata": {
  "kernelspec": {
   "display_name": "Python 3",
   "language": "python",
   "name": "python3"
  },
  "language_info": {
   "codemirror_mode": {
    "name": "ipython",
    "version": 3
   },
   "file_extension": ".py",
   "mimetype": "text/x-python",
   "name": "python",
   "nbconvert_exporter": "python",
   "pygments_lexer": "ipython3",
   "version": "3.9.0"
  }
 },
 "nbformat": 4,
 "nbformat_minor": 4
}
