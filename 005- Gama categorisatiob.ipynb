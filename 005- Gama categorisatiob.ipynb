{
 "cells": [
  {
   "cell_type": "markdown",
   "metadata": {},
   "source": [
    "# Gamma categorization\n",
    "* Design Patterns are typically split into three categories\n",
    "* This is called Gamma Categorisation after Erich Gamma, one of GoF autohors\n",
    "\n",
    "# 1. Creational Patterns\n",
    " * Deal with the creation (construction) of objects\n",
    " * Explicit construction (Using constructors) vs implicit construction (Using Dependency Injection, Reflection etc)\n",
    " * Wholesale (single statement) initialisation vs piecewise (step-by-step) initialisation\n",
    " \n",
    "# 2. Structural Patterns\n",
    " * Concerned with structure of classes (eg class members, class adhering to some interface)\n",
    " * Many structural patterns are wrappers that mimic the underlying class interface\n",
    " * Stress the importance of good API design that make APIs / objects usable for other people\n",
    " \n",
    "# 3. Behavioral Patterns\n",
    " * They are all different; no central theme. \n",
    " * They are all unique in their approach ie they all solve a particular problem in a particular way with a particular set of concerns \n",
    " "
   ]
  },
  {
   "cell_type": "code",
   "execution_count": null,
   "metadata": {},
   "outputs": [],
   "source": []
  }
 ],
 "metadata": {
  "kernelspec": {
   "display_name": "Python 3",
   "language": "python",
   "name": "python3"
  },
  "language_info": {
   "codemirror_mode": {
    "name": "ipython",
    "version": 3
   },
   "file_extension": ".py",
   "mimetype": "text/x-python",
   "name": "python",
   "nbconvert_exporter": "python",
   "pygments_lexer": "ipython3",
   "version": "3.7.4"
  }
 },
 "nbformat": 4,
 "nbformat_minor": 4
}
