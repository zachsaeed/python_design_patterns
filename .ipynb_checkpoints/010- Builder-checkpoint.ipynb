{
 "cells": [
  {
   "cell_type": "markdown",
   "metadata": {},
   "source": [
    "# Builder\n",
    "\n",
    "## Motivation\n",
    "\n",
    "* Some objects are typically quite simple to create and can be created in a single initializer call. You just call it and you're done.\n",
    "\n",
    "\n",
    "* Sometimes other, more complicated objects require a lot of ceremony to create which means that you have to build up the object in stages and it takes a lot of time and you might be tempted to create a very large initializer.\n",
    "\n",
    "* But having an object with let's say 10 different initialized arguments is really not productive.\n",
    "\n",
    "* instead what we do is we opt for peace wise construction ie instead of getting the entire object initialized with one very massive call to an initializer, we call different methods of a special component called the builder which actually allows us to do that.\n",
    "\n",
    "* So essentially the builder is a component which provides an API for constructing an object step by step.\n",
    "\n",
    "## Builder\n",
    "\n",
    "When piecewise object construction is complicated, provide an API for doing it succinctly.\n",
    "\n"
   ]
  }
 ],
 "metadata": {
  "kernelspec": {
   "display_name": "Python 3",
   "language": "python",
   "name": "python3"
  },
  "language_info": {
   "codemirror_mode": {
    "name": "ipython",
    "version": 3
   },
   "file_extension": ".py",
   "mimetype": "text/x-python",
   "name": "python",
   "nbconvert_exporter": "python",
   "pygments_lexer": "ipython3",
   "version": "3.7.4"
  }
 },
 "nbformat": 4,
 "nbformat_minor": 4
}
